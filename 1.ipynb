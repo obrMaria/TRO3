{
 "cells": [
  {
   "cell_type": "code",
   "execution_count": 4,
   "metadata": {},
   "outputs": [],
   "source": [
    "import numpy as np"
   ]
  },
  {
   "cell_type": "markdown",
   "metadata": {},
   "source": [
    "### Транспонирование матрицы"
   ]
  },
  {
   "cell_type": "code",
   "execution_count": 10,
   "metadata": {},
   "outputs": [
    {
     "name": "stdout",
     "output_type": "stream",
     "text": [
      "[[-10  -7   6   1]\n",
      " [ -2  -8  -1   4]\n",
      " [  5  -2   9   2]]\n"
     ]
    }
   ],
   "source": [
    "A = np.random.randint(-10,10,(3,4))\n",
    "print(A)"
   ]
  },
  {
   "cell_type": "code",
   "execution_count": 15,
   "metadata": {},
   "outputs": [
    {
     "name": "stdout",
     "output_type": "stream",
     "text": [
      "Транспонированная матрица\n",
      " [[-10  -2   5]\n",
      " [ -7  -8  -2]\n",
      " [  6  -1   9]\n",
      " [  1   4   2]]\n"
     ]
    }
   ],
   "source": [
    "A_T = A.T\n",
    "print(\"Транспонированная матрица\\n\",A_T)"
   ]
  },
  {
   "cell_type": "markdown",
   "metadata": {},
   "source": [
    "Свойство 1. Дважды транспонированная матрица равна исходной матрице:"
   ]
  },
  {
   "cell_type": "code",
   "execution_count": 16,
   "metadata": {},
   "outputs": [
    {
     "name": "stdout",
     "output_type": "stream",
     "text": [
      "[[ -2   1  -9  -8]\n",
      " [  0 -10   9   8]\n",
      " [ -6   9   4   6]]\n",
      "[[ -2   1  -9  -8]\n",
      " [  0 -10   9   8]\n",
      " [ -6   9   4   6]]\n"
     ]
    }
   ],
   "source": [
    "A = np.random.randint(-10,10,(3,4))\n",
    "print(A)\n",
    "print((A.T).T)"
   ]
  },
  {
   "cell_type": "markdown",
   "metadata": {},
   "source": [
    "Свойство 2. Транспонирование суммы матриц равно сумме транспонированных матриц:"
   ]
  },
  {
   "cell_type": "code",
   "execution_count": 20,
   "metadata": {},
   "outputs": [
    {
     "name": "stdout",
     "output_type": "stream",
     "text": [
      "Транспонирование суммы:\n",
      " [[29 36  4]\n",
      " [28 19  8]\n",
      " [16 27 37]\n",
      " [48  3 39]]\n",
      "Сумма транспонированных матриц:\n",
      " [[29 36  4]\n",
      " [28 19  8]\n",
      " [16 27 37]\n",
      " [48  3 39]]\n"
     ]
    }
   ],
   "source": [
    "A = np.random.randint(-10,10,(3,4))\n",
    "B = np.random.randint(0,50,(3,4))\n",
    "L = (A+B).T\n",
    "R = A.T + B.T\n",
    "print(\"Транспонирование суммы:\\n\",L)\n",
    "print(\"Сумма транспонированных матриц:\\n\",R)"
   ]
  },
  {
   "cell_type": "markdown",
   "metadata": {},
   "source": [
    "Свойство 3. Транспонирование произведения матриц равно произведению транспонированных матриц расставленных в обратном порядке"
   ]
  },
  {
   "cell_type": "code",
   "execution_count": 35,
   "metadata": {},
   "outputs": [
    {
     "name": "stdout",
     "output_type": "stream",
     "text": [
      "Транспонирование произведения матриц:\n",
      " [[ -79  -58  106]\n",
      " [ -94  -72  119]\n",
      " [-267 -175  422]]\n",
      "Произведение транспонированных матриц расставленных в обратном порядке:\n",
      " [[ -79  -58  106]\n",
      " [ -94  -72  119]\n",
      " [-267 -175  422]]\n"
     ]
    }
   ],
   "source": [
    "A = np.random.randint(-10,10,(3,4))\n",
    "B = np.random.randint(0,20,(4,3))\n",
    "L = (A.dot(B)).T\n",
    "R = (B.T).dot(A.T)\n",
    "print(\"Транспонирование произведения матриц:\\n\",L)\n",
    "print(\"Произведение транспонированных матриц расставленных в обратном порядке:\\n\",R)"
   ]
  },
  {
   "cell_type": "markdown",
   "metadata": {},
   "source": [
    "Свойство 4. Транспонирование произведения матрицы на число равно произведению этого числа на транспонированную матрицу:"
   ]
  },
  {
   "cell_type": "code",
   "execution_count": 42,
   "metadata": {},
   "outputs": [
    {
     "name": "stdout",
     "output_type": "stream",
     "text": [
      "Транспонирование произведения матрицы на число:\n",
      " [[20 40 35]\n",
      " [10 70 50]\n",
      " [80 10  5]\n",
      " [75 65 55]]\n",
      "Произведение этого числа на транспонированную матрицу:\n",
      " [[20 40 35]\n",
      " [10 70 50]\n",
      " [80 10  5]\n",
      " [75 65 55]]\n"
     ]
    }
   ],
   "source": [
    "A = np.random.randint(0,20,(3,4))\n",
    "k = 5\n",
    "L = (k * A).T\n",
    "R = k * A.T\n",
    "print(\"Транспонирование произведения матрицы на число:\\n\",L)\n",
    "print(\"Произведение этого числа на транспонированную матрицу:\\n\",R)"
   ]
  },
  {
   "cell_type": "markdown",
   "metadata": {},
   "source": [
    "*Свойство 5*. Определители исходной и транспонированной матрицы совпадают:"
   ]
  },
  {
   "cell_type": "code",
   "execution_count": 46,
   "metadata": {},
   "outputs": [
    {
     "name": "stdout",
     "output_type": "stream",
     "text": [
      "Определитель исходной матрицы: 32\n",
      "Определитель транспонированной матрицы: 32\n"
     ]
    }
   ],
   "source": [
    "A = np.random.randint(0,5,(3,3))\n",
    "A_det = np.linalg.det(A)\n",
    "A_T_det = np.linalg.det(A.T)\n",
    "print(\"Определитель исходной матрицы:\",format(A_det, '.9g'))\n",
    "print(\"Определитель транспонированной матрицы:\",format(A_T_det, '.9g'))"
   ]
  },
  {
   "cell_type": "markdown",
   "metadata": {},
   "source": [
    "### Действия над матрицами\n",
    "\n",
    "#### Умножение матрицы на число"
   ]
  },
  {
   "cell_type": "code",
   "execution_count": 56,
   "metadata": {},
   "outputs": [
    {
     "name": "stdout",
     "output_type": "stream",
     "text": [
      "[[ 1 -2 -4]\n",
      " [ 3 -5  3]\n",
      " [-2 -1  0]]\n",
      "Произведение матрицы на число:\n",
      " [[  4  -8 -16]\n",
      " [ 12 -20  12]\n",
      " [ -8  -4   0]]\n"
     ]
    }
   ],
   "source": [
    "A = np.random.randint(-5,5,(3,3))\n",
    "print(A)\n",
    "print(\"Произведение матрицы на число:\\n\",A * 4)"
   ]
  },
  {
   "cell_type": "markdown",
   "metadata": {},
   "source": [
    "Свойство 1. Произведение единицы и любой заданной матрицы равно заданной матрице"
   ]
  },
  {
   "cell_type": "code",
   "execution_count": 73,
   "metadata": {
    "scrolled": true
   },
   "outputs": [
    {
     "name": "stdout",
     "output_type": "stream",
     "text": [
      "Матрица умноженная на единицу:\n",
      " [[7 3 5]\n",
      " [4 5 9]\n",
      " [1 2 1]]\n"
     ]
    }
   ],
   "source": [
    "A = np.matrix('7 3 5; 4 5 9 ;1 2 1')\n",
    "print(\"Матрица умноженная на единицу:\\n\",A * 1)"
   ]
  },
  {
   "cell_type": "markdown",
   "metadata": {},
   "source": [
    "Свойство 2. Произведение нуля и любой матрицы равно нулевой матрице, размерность которой равна исходной матрицы"
   ]
  },
  {
   "cell_type": "code",
   "execution_count": 74,
   "metadata": {},
   "outputs": [
    {
     "name": "stdout",
     "output_type": "stream",
     "text": [
      "Произведение матрицы на ноль:\n",
      " [[0 0 0]\n",
      " [0 0 0]\n",
      " [0 0 0]]\n"
     ]
    }
   ],
   "source": [
    "A = np.matrix('7 3 5; 4 5 9 ;1 2 1')\n",
    "print(\"Произведение матрицы на ноль:\\n\",A * 0)"
   ]
  },
  {
   "cell_type": "markdown",
   "metadata": {},
   "source": [
    "Свойство 3. Произведение матрицы на сумму чисел равно сумме произведений матрицы на\n",
    "каждое из этих чисел"
   ]
  },
  {
   "cell_type": "code",
   "execution_count": 76,
   "metadata": {},
   "outputs": [
    {
     "name": "stdout",
     "output_type": "stream",
     "text": [
      "Произведение матрицы на сумму чисел:\n",
      " [[63 27 45]\n",
      " [36 45 81]\n",
      " [ 9 18  9]]\n",
      "Сумма произведений матрицы на каждое из этих чисел:\n",
      " [[63 27 45]\n",
      " [36 45 81]\n",
      " [ 9 18  9]]\n"
     ]
    }
   ],
   "source": [
    "A = np.matrix('7 3 5; 4 5 9 ;1 2 1')\n",
    "q = 5\n",
    "p = 4\n",
    "L = (q + p) * A\n",
    "R = q * A + p * A\n",
    "print(\"Произведение матрицы на сумму чисел:\\n\", L)\n",
    "print(\"Сумма произведений матрицы на каждое из этих чисел:\\n\", R)"
   ]
  },
  {
   "cell_type": "markdown",
   "metadata": {},
   "source": [
    "Свойство 4. Произведение матрицы на произведение двух чисел равно произведению второго\n",
    "числа и заданной матрицы, умноженному на первое число:"
   ]
  },
  {
   "cell_type": "code",
   "execution_count": 78,
   "metadata": {},
   "outputs": [
    {
     "name": "stdout",
     "output_type": "stream",
     "text": [
      "Произведение матрицы на произведение двух чисел:\n",
      " [[140  60 100]\n",
      " [ 80 100 180]\n",
      " [ 20  40  20]]\n",
      "Произведение второго числа и заданной матрицы, умноженному на первое число \n",
      " [[140  60 100]\n",
      " [ 80 100 180]\n",
      " [ 20  40  20]]\n"
     ]
    }
   ],
   "source": [
    "A = np.matrix('7 3 5; 4 5 9 ;1 2 1')\n",
    "q = 5\n",
    "p = 4\n",
    "L = (q * p) * A\n",
    "R = q * (p * A)\n",
    "print(\"Произведение матрицы на произведение двух чисел:\\n\", L)\n",
    "print(\"Произведение второго числа и заданной матрицы, умноженному на первое число \\n\", R)"
   ]
  },
  {
   "cell_type": "markdown",
   "metadata": {},
   "source": [
    "Свойство 5. Произведение суммы матриц на число равно сумме произведений этих матриц на\n",
    "заданное число:"
   ]
  },
  {
   "cell_type": "code",
   "execution_count": 80,
   "metadata": {},
   "outputs": [
    {
     "name": "stdout",
     "output_type": "stream",
     "text": [
      "Произведение суммы матриц на число:\n",
      " [[1200  900  600]\n",
      " [1400 1200 1800]\n",
      " [ 300  600  600]]\n",
      "Сумма произведений этих матриц на заданное число:\n",
      " [[1200  900  600]\n",
      " [1400 1200 1800]\n",
      " [ 300  600  600]]\n"
     ]
    }
   ],
   "source": [
    "A = np.matrix('7 3 5; 4 5 9 ;1 2 1')\n",
    "B = np.matrix('5 6 1; 10 7 9; 2 4 5')\n",
    "k = 100\n",
    "L = k * (A + B)\n",
    "R = k * A + k * B\n",
    "print(\"Произведение суммы матриц на число:\\n\", L)\n",
    "print(\"Сумма произведений этих матриц на заданное число:\\n\", R)"
   ]
  },
  {
   "cell_type": "markdown",
   "metadata": {},
   "source": [
    "#### сложение матрицы"
   ]
  },
  {
   "cell_type": "markdown",
   "metadata": {},
   "source": [
    "Свойство 1. Коммутативность сложения. От перестановки матриц их сумма не изменяется:"
   ]
  },
  {
   "cell_type": "code",
   "execution_count": 81,
   "metadata": {},
   "outputs": [
    {
     "name": "stdout",
     "output_type": "stream",
     "text": [
      "Сумма А + В:\n",
      " [[12  9  6]\n",
      " [14 12 18]\n",
      " [ 3  6  6]]\n",
      "Сумма В + А:\n",
      " [[12  9  6]\n",
      " [14 12 18]\n",
      " [ 3  6  6]]\n"
     ]
    }
   ],
   "source": [
    "A = np.matrix('7 3 5; 4 5 9 ;1 2 1')\n",
    "B = np.matrix('5 6 1; 10 7 9; 2 4 5')\n",
    "L = A + B\n",
    "R = B + A\n",
    "print(\"Сумма А + В:\\n\", L)\n",
    "print(\"Сумма В + А:\\n\", R)"
   ]
  },
  {
   "cell_type": "markdown",
   "metadata": {},
   "source": [
    "Свойство 2. Ассоциативность сложения.\n",
    "Результат сложения трех и более матриц не зависит от порядка, в котором эта операция будет выполняться"
   ]
  },
  {
   "cell_type": "code",
   "execution_count": 83,
   "metadata": {},
   "outputs": [
    {
     "name": "stdout",
     "output_type": "stream",
     "text": [
      "Сумма A + (B + C):\n",
      " [[13  9 13]\n",
      " [29 21 21]\n",
      " [ 6 10  5]]\n",
      "Сумма (A + B) + C:\n",
      " [[13  9 13]\n",
      " [29 21 21]\n",
      " [ 6 10  5]]\n"
     ]
    }
   ],
   "source": [
    "A = np.matrix('7 3 5; 4 5 9 ;1 2 1')\n",
    "B = np.matrix('5 6 1; 10 7 9; 2 4 5')\n",
    "C = np.matrix('1 0 7; 15 9 3; 3 4 -1')\n",
    "L = A + (B + C)\n",
    "R = (A + B) + C\n",
    "print(\"Сумма A + (B + C):\\n\", L)\n",
    "print(\"Сумма (A + B) + C:\\n\", R)"
   ]
  },
  {
   "cell_type": "markdown",
   "metadata": {},
   "source": [
    "Свойство 3. Для любой матрицы существует противоположная ей, такая, что их сумма является нулевой матрицей :"
   ]
  },
  {
   "cell_type": "code",
   "execution_count": 87,
   "metadata": {},
   "outputs": [
    {
     "name": "stdout",
     "output_type": "stream",
     "text": [
      "сумма исходной и противоположной ей матриц:\n",
      " [[0 0 0]\n",
      " [0 0 0]\n",
      " [0 0 0]]\n",
      "Нулевая матрица:\n",
      " [[0 0]\n",
      " [0 0]]\n"
     ]
    }
   ],
   "source": [
    "Z = np.matrix('0 0; 0 0')\n",
    "L = A + (-1)*A\n",
    "print(\"сумма исходной и противоположной ей матриц:\\n\", L)\n",
    "print(\"Нулевая матрица:\\n\",Z)"
   ]
  },
  {
   "cell_type": "markdown",
   "metadata": {},
   "source": [
    "#### Умножение матриц"
   ]
  },
  {
   "cell_type": "code",
   "execution_count": 89,
   "metadata": {},
   "outputs": [
    {
     "name": "stdout",
     "output_type": "stream",
     "text": [
      "[[  2  -4 -25]\n",
      " [ 22  46  20]\n",
      " [ 29  17  26]]\n"
     ]
    }
   ],
   "source": [
    "A = np.random.randint(-5,5,(3,3))\n",
    "B = np.random.randint(-10,5,(3,3))\n",
    "C = A.dot(B)\n",
    "print(C)"
   ]
  },
  {
   "cell_type": "markdown",
   "metadata": {},
   "source": [
    "Свойство 1. Ассоциативность умножения. Результат умножения матриц не зависит от порядка, в котором будет выполняться эта операция"
   ]
  },
  {
   "cell_type": "code",
   "execution_count": 91,
   "metadata": {
    "scrolled": false
   },
   "outputs": [
    {
     "name": "stdout",
     "output_type": "stream",
     "text": [
      "Произведение A * (B * C):\n",
      " [[ 129  -63  596]\n",
      " [ 282  336 1137]\n",
      " [-154 -202 -888]]\n",
      "Произведение (A * B) * C:\n",
      " [[ 129  -63  596]\n",
      " [ 282  336 1137]\n",
      " [-154 -202 -888]]\n"
     ]
    }
   ],
   "source": [
    "A = np.random.randint(-5,5,(3,3))\n",
    "B = np.random.randint(-10,5,(3,3))\n",
    "С = np.random.randint(-10,10,(3,3))\n",
    "L = A.dot(B.dot(C))\n",
    "R = (A.dot(B)).dot(C)\n",
    "print(\"Произведение A * (B * C):\\n\", L)\n",
    "print(\"Произведение (A * B) * C:\\n\", R)"
   ]
  },
  {
   "cell_type": "markdown",
   "metadata": {},
   "source": [
    "Свойство 2. Дистрибутивность умножения. Произведение матрицы на сумму матриц равно сумме произведений матриц"
   ]
  },
  {
   "cell_type": "code",
   "execution_count": 92,
   "metadata": {
    "scrolled": true
   },
   "outputs": [
    {
     "name": "stdout",
     "output_type": "stream",
     "text": [
      "Произведение A * (B + C):\n",
      " [[-126 -195   14]\n",
      " [  13   82   -6]\n",
      " [  88   55   86]]\n",
      "Произведение A * B + A * C:\n",
      " [[-126 -195   14]\n",
      " [  13   82   -6]\n",
      " [  88   55   86]]\n"
     ]
    }
   ],
   "source": [
    "A = np.random.randint(-5,5,(3,3))\n",
    "B = np.random.randint(-10,5,(3,3))\n",
    "С = np.random.randint(-10,10,(3,3))\n",
    "L = A.dot(B + C)\n",
    "R = A.dot(B) + A.dot(C)\n",
    "print(\"Произведение A * (B + C):\\n\", L)\n",
    "print(\"Произведение A * B + A * C:\\n\", R)"
   ]
  },
  {
   "cell_type": "markdown",
   "metadata": {},
   "source": [
    "Свойство 3. Умножение матриц в общем виде не коммутативно. Это означает, что для матриц не выполняется правило независимости произведения от перестановки множителей"
   ]
  },
  {
   "cell_type": "code",
   "execution_count": 93,
   "metadata": {
    "scrolled": true
   },
   "outputs": [
    {
     "name": "stdout",
     "output_type": "stream",
     "text": [
      "Произведение A * B:\n",
      " [[22 46 19]\n",
      " [16 36  9]\n",
      " [ 9  1 -3]]\n",
      "Произведение B * A:\n",
      " [[ 41  20   0]\n",
      " [-27 -22  31]\n",
      " [ 58  20  36]]\n"
     ]
    }
   ],
   "source": [
    "A = np.random.randint(-5,5,(3,3))\n",
    "B = np.random.randint(-10,5,(3,3))\n",
    "L = A.dot(B)\n",
    "R = B.dot(A)\n",
    "print(\"Произведение A * B:\\n\", L)\n",
    "print(\"Произведение B * A:\\n\", R)"
   ]
  },
  {
   "cell_type": "markdown",
   "metadata": {},
   "source": [
    "Свойство 4. Произведение заданной матрицы на единичную равно исходной матрице"
   ]
  },
  {
   "cell_type": "code",
   "execution_count": 97,
   "metadata": {
    "scrolled": true
   },
   "outputs": [
    {
     "name": "stdout",
     "output_type": "stream",
     "text": [
      "Произведение заданной матрицы на единичную:\n",
      " [[5 4]\n",
      " [4 7]]\n",
      "Произведение единичной матрицы на заданную:\n",
      " [[5 4]\n",
      " [4 7]]\n",
      "Исходная матрица:\n",
      " [[5 4]\n",
      " [4 7]]\n"
     ]
    }
   ],
   "source": [
    "A = np.matrix('5 4; 4 7')\n",
    "E = np.matrix('1 0; 0 1')\n",
    "L = E.dot(A)\n",
    "R = A.dot(E)\n",
    "print(\"Произведение заданной матрицы на единичную:\\n\", L)\n",
    "print(\"Произведение единичной матрицы на заданную:\\n\", R)\n",
    "print(\"Исходная матрица:\\n\", A)"
   ]
  },
  {
   "cell_type": "markdown",
   "metadata": {},
   "source": [
    "Свойство 5. Произведение заданной матрицы на нулевую матрицу равно нулевой матрице"
   ]
  },
  {
   "cell_type": "code",
   "execution_count": 98,
   "metadata": {
    "scrolled": true
   },
   "outputs": [
    {
     "name": "stdout",
     "output_type": "stream",
     "text": [
      "Произведение заданной матрицы на нулевую:\n",
      " [[0 0]\n",
      " [0 0]]\n",
      "Произведение нулевой матрицы на заданную:\n",
      " [[0 0]\n",
      " [0 0]]\n",
      "Исходная матрица:\n",
      " [[0 0]\n",
      " [0 0]]\n"
     ]
    }
   ],
   "source": [
    "A = np.matrix('5 4; 4 7')\n",
    "Z = np.matrix('0 0; 0 0')\n",
    "L = Z.dot(A)\n",
    "R = A.dot(Z)\n",
    "print(\"Произведение заданной матрицы на нулевую:\\n\", L)\n",
    "print(\"Произведение нулевой матрицы на заданную:\\n\", R)\n",
    "print(\"Исходная матрица:\\n\", Z)"
   ]
  },
  {
   "cell_type": "markdown",
   "metadata": {},
   "source": [
    "### Определитель матрицы"
   ]
  },
  {
   "cell_type": "code",
   "execution_count": 107,
   "metadata": {},
   "outputs": [
    {
     "name": "stdout",
     "output_type": "stream",
     "text": [
      "[[4 3 1]\n",
      " [1 3 1]\n",
      " [2 3 4]]\n"
     ]
    }
   ],
   "source": [
    "A = np.random.randint(1,5,(3,3))\n",
    "print(A)"
   ]
  },
  {
   "cell_type": "code",
   "execution_count": 108,
   "metadata": {},
   "outputs": [
    {
     "data": {
      "text/plain": [
       "27.0"
      ]
     },
     "execution_count": 108,
     "metadata": {},
     "output_type": "execute_result"
    }
   ],
   "source": [
    "np.linalg.det(A)"
   ]
  },
  {
   "cell_type": "markdown",
   "metadata": {},
   "source": [
    "#### Свойства определителя матрицы.\n",
    "Свойство 1. Определитель матрицы остается неизменным при ее транспонировании\n"
   ]
  },
  {
   "cell_type": "code",
   "execution_count": 109,
   "metadata": {
    "scrolled": false
   },
   "outputs": [
    {
     "name": "stdout",
     "output_type": "stream",
     "text": [
      "[[3 1 3]\n",
      " [4 4 1]\n",
      " [4 4 2]]\n",
      "[[3 4 4]\n",
      " [1 4 4]\n",
      " [3 1 2]]\n",
      "Опеределитель матрицы: 8.0\n",
      "Определитель транспонированной матрицы: 8.0\n"
     ]
    }
   ],
   "source": [
    "A = np.random.randint(1,5,(3,3))\n",
    "print(A)\n",
    "print(A.T)\n",
    "det_A = round(np.linalg.det(A), 3)\n",
    "det_A_t = round(np.linalg.det(A.T), 3)\n",
    "print(\"Опеределитель матрицы:\",det_A)\n",
    "print(\"Определитель транспонированной матрицы:\",det_A_t)"
   ]
  },
  {
   "cell_type": "markdown",
   "metadata": {},
   "source": [
    "Свойство 2. Если у матрицы есть строка или столбец, состоящие из нулей, то определитель такой матрицы равен нулю"
   ]
  },
  {
   "cell_type": "code",
   "execution_count": 112,
   "metadata": {
    "scrolled": true
   },
   "outputs": [
    {
     "name": "stdout",
     "output_type": "stream",
     "text": [
      "[[ 0 41  2]\n",
      " [ 0  5  9]\n",
      " [ 0 88 21]]\n",
      "Опеределитель матрицы: 0.0\n"
     ]
    }
   ],
   "source": [
    "A = np.matrix('0 41 2; 0 5 9; 0 88 21')\n",
    "print(A)\n",
    "print(\"Опеределитель матрицы:\", np.linalg.det(A))"
   ]
  },
  {
   "cell_type": "markdown",
   "metadata": {},
   "source": [
    "Свойство 3. При перестановке строк матрицы знак ее определителя меняется на противоположный"
   ]
  },
  {
   "cell_type": "code",
   "execution_count": 114,
   "metadata": {
    "scrolled": false
   },
   "outputs": [
    {
     "name": "stdout",
     "output_type": "stream",
     "text": [
      "[[ 0 41  2]\n",
      " [10  5  9]\n",
      " [ 0 88 21]]\n",
      "Определитель матрицы А: -6850.0\n",
      "[[10  5  9]\n",
      " [ 0 41  2]\n",
      " [ 0 88 21]]\n",
      "Определитель матрицы В: 6850.0\n"
     ]
    }
   ],
   "source": [
    "A = np.matrix('0 41 2; 10 5 9; 0 88 21')\n",
    "print(A)\n",
    "print(\"Определитель матрицы А:\",round(np.linalg.det(A), 3))\n",
    "B = np.matrix('10 5 9; 0 41 2; 0 88 21')\n",
    "print(B)\n",
    "print(\"Определитель матрицы В:\",round(np.linalg.det(B), 3))"
   ]
  },
  {
   "cell_type": "markdown",
   "metadata": {},
   "source": [
    "Свойство 4. Если у матрицы есть две одинаковые строки, то ее определитель равен нулю"
   ]
  },
  {
   "cell_type": "code",
   "execution_count": 116,
   "metadata": {
    "scrolled": true
   },
   "outputs": [
    {
     "name": "stdout",
     "output_type": "stream",
     "text": [
      "[[ 0 41  2]\n",
      " [ 0 41  2]\n",
      " [16 88 21]]\n",
      "Определитель матрицы А: 0.0\n"
     ]
    }
   ],
   "source": [
    "A = np.matrix('0 41 2; 0 41 2; 16 88 21')\n",
    "print(A)\n",
    "print(\"Определитель матрицы А:\",np.linalg.det(A))"
   ]
  },
  {
   "cell_type": "markdown",
   "metadata": {},
   "source": [
    "Свойство 5. Если все элементы строки или столбца матрицы умножить на какое-то число, то и определитель будет умножен на это число"
   ]
  },
  {
   "cell_type": "code",
   "execution_count": 117,
   "metadata": {
    "scrolled": true
   },
   "outputs": [
    {
     "name": "stdout",
     "output_type": "stream",
     "text": [
      "[[2 2 1]\n",
      " [4 2 4]\n",
      " [1 3 3]]\n",
      "[[ 2  2  1]\n",
      " [ 4  2  4]\n",
      " [10 30 30]]\n",
      "Опеределитель матрицы: -180.0\n",
      "Определитель матрицы умноженной на число: -180.0\n"
     ]
    }
   ],
   "source": [
    "A = np.random.randint(1,5,(3,3))\n",
    "print(A)\n",
    "k = 10\n",
    "B = A.copy()\n",
    "B[2, :] = k * B[2, :]\n",
    "print(B)\n",
    "det_A = round(np.linalg.det(A), 3)\n",
    "det_B = round(np.linalg.det(B), 3)\n",
    "print(\"Опеределитель матрицы:\",det_A * k)\n",
    "print(\"Определитель матрицы умноженной на число:\",det_B)"
   ]
  },
  {
   "cell_type": "markdown",
   "metadata": {},
   "source": [
    "Свойство 6. Если все элементы строки или столбца можно представить как сумму двух слагаемых, то определитель такой матрицы равен сумме определителей двух соответствующих матриц"
   ]
  },
  {
   "cell_type": "code",
   "execution_count": 138,
   "metadata": {
    "scrolled": true
   },
   "outputs": [
    {
     "name": "stdout",
     "output_type": "stream",
     "text": [
      "[[ 1  2  3]\n",
      " [ 8 39 11]\n",
      " [ 4  5  6]]\n",
      "[[ 1  2  3]\n",
      " [-1 31  4]\n",
      " [ 4  5  6]]\n",
      "[[1 2 3]\n",
      " [9 8 7]\n",
      " [4 5 6]]\n",
      "Определитель матрицы C: -177.0\n",
      "Определитель суммы двух матриц: -177.0\n"
     ]
    }
   ],
   "source": [
    "A = np.matrix('1 2 3; -1 31 4; 4 5 6')\n",
    "B = np.matrix('1 2 3; 9 8 7; 4 5 6')\n",
    "C = A.copy()\n",
    "C[1, :] += B[1, :]\n",
    "print(C)\n",
    "print(A)\n",
    "print(B)\n",
    "R = round(np.linalg.det(C), 3)\n",
    "L = round(np.linalg.det(A), 3) + round(np.linalg.det(B), 3)\n",
    "print(\"Определитель матрицы C:\", R)\n",
    "print(\"Определитель суммы двух матриц:\", L)"
   ]
  },
  {
   "cell_type": "markdown",
   "metadata": {},
   "source": [
    "Свойство 7. Если к элементам одной строки прибавить элементы другой строки, умноженные на одно и тоже число, то определитель матрицы не изменится"
   ]
  },
  {
   "cell_type": "code",
   "execution_count": 140,
   "metadata": {
    "scrolled": true
   },
   "outputs": [
    {
     "name": "stdout",
     "output_type": "stream",
     "text": [
      "[[2 2 3]\n",
      " [1 3 1]\n",
      " [4 4 2]]\n",
      "[[2 2 3]\n",
      " [5 7 7]\n",
      " [4 4 2]]\n",
      "Определитель матрицы A: -16.0\n",
      "Определитель матрицы B: -16.0\n"
     ]
    }
   ],
   "source": [
    "A = np.random.randint(1,5,(3,3))\n",
    "k = 2\n",
    "B = A.copy()\n",
    "B[1, :] = B[1, :] + k * B[0, :]\n",
    "print(A)\n",
    "print(B)\n",
    "R = round(np.linalg.det(A), 3)\n",
    "L = round(np.linalg.det(B), 3)\n",
    "print(\"Определитель матрицы A:\", R)\n",
    "print(\"Определитель матрицы B:\", L)"
   ]
  },
  {
   "cell_type": "markdown",
   "metadata": {},
   "source": [
    "Свойство 8. Если строка или столбец матрицы является линейной комбинацией других строк (столбцов), то определитель такой матрицы равен нулю"
   ]
  },
  {
   "cell_type": "code",
   "execution_count": 141,
   "metadata": {
    "scrolled": true
   },
   "outputs": [
    {
     "name": "stdout",
     "output_type": "stream",
     "text": [
      "[[1 1 2]\n",
      " [3 1 2]\n",
      " [4 1 2]]\n",
      "[[1 1 2]\n",
      " [9 3 6]\n",
      " [4 1 2]]\n",
      "Определитель матрицы A: 0.0\n"
     ]
    }
   ],
   "source": [
    "A = np.random.randint(1,5,(3,3))\n",
    "print(A)\n",
    "k = 2\n",
    "A[1, :] = A[0, :] + k * A[2, :]\n",
    "print(A)\n",
    "K = round(np.linalg.det(A), 3)\n",
    "print(\"Определитель матрицы A:\", K)"
   ]
  },
  {
   "cell_type": "markdown",
   "metadata": {},
   "source": [
    "Свойство 9. Если матрица содержит пропорциональные строки, то ее определитель равен нулю"
   ]
  },
  {
   "cell_type": "code",
   "execution_count": 142,
   "metadata": {
    "scrolled": true
   },
   "outputs": [
    {
     "name": "stdout",
     "output_type": "stream",
     "text": [
      "[[4 1 3]\n",
      " [4 3 1]\n",
      " [3 4 1]]\n",
      "[[4 1 3]\n",
      " [8 2 6]\n",
      " [3 4 1]]\n",
      "Определитель матрицы A: 0.0\n"
     ]
    }
   ],
   "source": [
    "A = np.random.randint(1,5,(3,3))\n",
    "print(A)\n",
    "k = 2\n",
    "A[1, :] = k * A[0, :]\n",
    "print(A)\n",
    "K = round(np.linalg.det(A), 3)\n",
    "print(\"Определитель матрицы A:\", K)"
   ]
  },
  {
   "cell_type": "markdown",
   "metadata": {},
   "source": [
    "### Обратная матрица"
   ]
  },
  {
   "cell_type": "code",
   "execution_count": 143,
   "metadata": {},
   "outputs": [
    {
     "name": "stdout",
     "output_type": "stream",
     "text": [
      "[[-0.33333333  0.44444444]\n",
      " [ 0.33333333 -0.11111111]]\n"
     ]
    }
   ],
   "source": [
    "A = np.random.randint(1,5,(2,2))\n",
    "A_inv = np.linalg.inv(A)\n",
    "print(A_inv)"
   ]
  },
  {
   "cell_type": "markdown",
   "metadata": {},
   "source": [
    "Свойство 1. Обратная матрица обратной матрицы есть исходная матрица:"
   ]
  },
  {
   "cell_type": "code",
   "execution_count": 145,
   "metadata": {
    "scrolled": true
   },
   "outputs": [
    {
     "name": "stdout",
     "output_type": "stream",
     "text": [
      "Определитель исходной матрицы:\n",
      " [[3 4]\n",
      " [4 4]]\n",
      "Определитель обратной обратной матрицы A:\n",
      " [[3. 4.]\n",
      " [4. 4.]]\n"
     ]
    }
   ],
   "source": [
    "A = np.random.randint(1,5,(2,2))\n",
    "A_inv = np.linalg.inv(A)\n",
    "A_inv_inv = np.linalg.inv(A_inv)\n",
    "print(\"Определитель исходной матрицы:\\n\",A)\n",
    "print(\"Определитель обратной обратной матрицы A:\\n\",A_inv_inv)"
   ]
  },
  {
   "cell_type": "markdown",
   "metadata": {},
   "source": [
    "Свойство 2. Обратная матрица транспонированной матрицы равна транспонированной матрице от обратной матрицы:"
   ]
  },
  {
   "cell_type": "code",
   "execution_count": 146,
   "metadata": {
    "scrolled": true
   },
   "outputs": [
    {
     "name": "stdout",
     "output_type": "stream",
     "text": [
      "Обратная матрица транспонированной матрицы:\n",
      " [[ 0.30769231 -0.23076923]\n",
      " [-0.07692308  0.30769231]]\n",
      "Транспонированная матрица от обратной матрицы:\n",
      " [[ 0.30769231 -0.23076923]\n",
      " [-0.07692308  0.30769231]]\n"
     ]
    }
   ],
   "source": [
    "A = np.random.randint(1,5,(2,2))\n",
    "L = np.linalg.inv(A.T)\n",
    "R = (np.linalg.inv(A)).T\n",
    "print(\"Обратная матрица транспонированной матрицы:\\n\",L)\n",
    "print(\"Транспонированная матрица от обратной матрицы:\\n\", R)"
   ]
  },
  {
   "cell_type": "markdown",
   "metadata": {},
   "source": [
    "Свойство 3. Обратная матрица произведения матриц равна произведению обратных матриц:"
   ]
  },
  {
   "cell_type": "code",
   "execution_count": 73,
   "metadata": {
    "scrolled": true
   },
   "outputs": [
    {
     "name": "stdout",
     "output_type": "stream",
     "text": [
      "[[ 0.09454545  0.03272727]\n",
      " [-0.03454545  0.00727273]]\n",
      "[[ 0.09454545  0.03272727]\n",
      " [-0.03454545  0.00727273]]\n"
     ]
    }
   ],
   "source": [
    "A = np.random.randint(1,5,(2,2))\n",
    "B = np.random.randint(1,5,(2,2))\n",
    "L = np.linalg.inv(A.dot(B))\n",
    "R = np.linalg.inv(B).dot(np.linalg.inv(A))\n",
    "print(\"Обратная матрица произведения матриц:\\n\",L)\n",
    "print(\"Произведение обратных матриц:\\n\", R)"
   ]
  }
 ],
 "metadata": {
  "kernelspec": {
   "display_name": "Python 3 (ipykernel)",
   "language": "python",
   "name": "python3"
  },
  "language_info": {
   "codemirror_mode": {
    "name": "ipython",
    "version": 3
   },
   "file_extension": ".py",
   "mimetype": "text/x-python",
   "name": "python",
   "nbconvert_exporter": "python",
   "pygments_lexer": "ipython3",
   "version": "3.9.13"
  }
 },
 "nbformat": 4,
 "nbformat_minor": 4
}
