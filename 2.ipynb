{
 "cells": [
  {
   "cell_type": "markdown",
   "id": "2a638151",
   "metadata": {},
   "source": [
    "решения систем линейных уравнений матричным методом и методом Крамера."
   ]
  },
  {
   "cell_type": "markdown",
   "id": "1290f5a4",
   "metadata": {},
   "source": [
    "### Матричный метод"
   ]
  },
  {
   "cell_type": "code",
   "execution_count": 4,
   "id": "4fff1897",
   "metadata": {},
   "outputs": [],
   "source": [
    "import numpy as np"
   ]
  },
  {
   "cell_type": "markdown",
   "id": "589b3d36",
   "metadata": {},
   "source": [
    "решение системы линейных алгебраических уравнений по матричному методу определяется равенством\n",
    "$$ X = A^{-1} * B $$\n",
    "\n",
    "В  случае, если det A не равен нулю, у системы имеется только один вариант решения: при помощи метода обратной матрицы. Если det A=0, то систему нельзя решить данным методом."
   ]
  },
  {
   "cell_type": "markdown",
   "id": "fa6bcf45",
   "metadata": {},
   "source": [
    "Создадим и заполним матрицу"
   ]
  },
  {
   "cell_type": "code",
   "execution_count": 15,
   "id": "8cdf713e",
   "metadata": {
    "scrolled": true
   },
   "outputs": [
    {
     "name": "stdout",
     "output_type": "stream",
     "text": [
      "[[ 4 -5  1]\n",
      " [-3 -1  0]\n",
      " [ 0  4  3]]\n",
      "[[-1]\n",
      " [-4]\n",
      " [-3]]\n"
     ]
    }
   ],
   "source": [
    "A = np.random.randint(-5, 5,(3,3))\n",
    "B = np.random.randint(-5, 5,(3,1))\n",
    "print(A)\n",
    "print(B)"
   ]
  },
  {
   "cell_type": "code",
   "execution_count": 16,
   "id": "99970a2d",
   "metadata": {},
   "outputs": [
    {
     "name": "stdout",
     "output_type": "stream",
     "text": [
      "x1 = [1.10144928]\n",
      "x2 = [0.69565217]\n",
      "x3 = [-1.92753623]\n"
     ]
    }
   ],
   "source": [
    "#Найдем определитель\n",
    "A_det = np.linalg.det(A)\n",
    "\n",
    "if round(A_det) != 0: \n",
    "    #Найдем обратную и присоединенную матрицу\n",
    "    A_inv = np.linalg.inv(A)\n",
    "    R = A_inv.dot(B) \n",
    "    i = 1\n",
    "    for elem in R: \n",
    "        print(f\"x{i} = {elem}\") \n",
    "        i += 1\n",
    "else:\n",
    "    print(\"определитель равен 0, систему решить нельзя\")"
   ]
  },
  {
   "cell_type": "markdown",
   "id": "1931c023",
   "metadata": {},
   "source": [
    "### Метод Крамера"
   ]
  },
  {
   "cell_type": "markdown",
   "id": "d67fbced",
   "metadata": {},
   "source": [
    "Для решения системы линейных уравнений методом Крамера из коэффициентов при неизвестных составляется главный определитель системы "
   ]
  },
  {
   "cell_type": "markdown",
   "id": "219a20d4",
   "metadata": {},
   "source": [
    "Создадим и заполним матрицу"
   ]
  },
  {
   "cell_type": "code",
   "execution_count": 27,
   "id": "cd38d193",
   "metadata": {},
   "outputs": [
    {
     "name": "stdout",
     "output_type": "stream",
     "text": [
      "[[-3 -2  1]\n",
      " [ 2 -5 -5]\n",
      " [-4  0 -2]]\n",
      "[[ 1]\n",
      " [ 1]\n",
      " [-2]]\n"
     ]
    }
   ],
   "source": [
    "A = np.random.randint(-5, 5,(3,3))\n",
    "B = np.random.randint(-5, 5,(3,1))\n",
    "print(A)\n",
    "print(B)"
   ]
  },
  {
   "cell_type": "code",
   "execution_count": 34,
   "id": "b3f94537",
   "metadata": {},
   "outputs": [
    {
     "name": "stdout",
     "output_type": "stream",
     "text": [
      "x1: 0.24489795918367346 \n",
      "x2: -0.6122448979591837 \n",
      "x3: 0.5102040816326531\n"
     ]
    }
   ],
   "source": [
    "#Найдем определитель\n",
    "A_det  = np.linalg.det(A)\n",
    "\n",
    "if round(A_det) != 0:\n",
    "    #Найдем дополнительные определители\n",
    "    d_1 = A.copy() \n",
    "    d_1 [:, 0] = B[:, 0] \n",
    "    x1 = round(np.linalg.det(d_1), 3) / round(A_det, 3)\n",
    "    \n",
    "    d_2 = A.copy()  \n",
    "    d_2[:, 1] = B[:, 0] \n",
    "    x2 = round(np.linalg.det(d_2), 3) / round(A_det, 3) \n",
    "    \n",
    "    d_3 = A.copy() \n",
    "    d_3[:, 2] = B[:, 0] \n",
    "    x3 = round(np.linalg.det(d_3), 3) / round(A_det, 3) \n",
    "   \n",
    "    print(\"x1:\", x1, \"\\nx2:\", x2, \"\\nx3:\", x3)\n",
    "else:\n",
    "    print(\"Матрица вырожденная, нельзя продолжить\")"
   ]
  }
 ],
 "metadata": {
  "kernelspec": {
   "display_name": "Python 3 (ipykernel)",
   "language": "python",
   "name": "python3"
  },
  "language_info": {
   "codemirror_mode": {
    "name": "ipython",
    "version": 3
   },
   "file_extension": ".py",
   "mimetype": "text/x-python",
   "name": "python",
   "nbconvert_exporter": "python",
   "pygments_lexer": "ipython3",
   "version": "3.9.13"
  }
 },
 "nbformat": 4,
 "nbformat_minor": 5
}
